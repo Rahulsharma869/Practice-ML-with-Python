{
  "nbformat": 4,
  "nbformat_minor": 0,
  "metadata": {
    "colab": {
      "provenance": []
    },
    "kernelspec": {
      "name": "python3",
      "display_name": "Python 3"
    },
    "language_info": {
      "name": "python"
    }
  },
  "cells": [
    {
      "cell_type": "code",
      "source": [
        "import torch as to\n",
        "import numpy as np"
      ],
      "metadata": {
        "id": "cp6AGDWMv4N0"
      },
      "execution_count": null,
      "outputs": []
    },
    {
      "cell_type": "code",
      "execution_count": null,
      "metadata": {
        "colab": {
          "base_uri": "https://localhost:8080/"
        },
        "id": "hzGqEW1WmkNm",
        "outputId": "3e0a0f5c-f644-4cb0-ab0c-4f07924d0d3a"
      },
      "outputs": [
        {
          "output_type": "execute_result",
          "data": {
            "text/plain": [
              "torch.Size([5])"
            ]
          },
          "metadata": {},
          "execution_count": 24
        }
      ],
      "source": [
        "a = to.tensor([1,2,3,4,5])\n",
        "a.size()"
      ]
    },
    {
      "cell_type": "code",
      "source": [
        "#type of tensor\n",
        "print(a.type())\n",
        "#data type of tensor\n",
        "print(a.dtype)"
      ],
      "metadata": {
        "colab": {
          "base_uri": "https://localhost:8080/"
        },
        "id": "JYkkvf5DqU1W",
        "outputId": "48d90e11-dc93-4586-9af7-07be3cf96920"
      },
      "execution_count": null,
      "outputs": [
        {
          "output_type": "stream",
          "name": "stdout",
          "text": [
            "torch.LongTensor\n",
            "torch.int64\n"
          ]
        }
      ]
    },
    {
      "cell_type": "code",
      "source": [
        "#Implicit type conversion\n",
        "a = to.tensor([1,2,3,4,5],dtype=to.float64)\n",
        "print(a)\n",
        "#Explicit type Conversion\n",
        "a = to.FloatTensor([1,2,2,2])\n",
        "print(a)\n",
        "#no of dimension in tensor\n",
        "print(a.ndimension())\n",
        "#to convert to 2D\n",
        "print(a.view(4,1))\n",
        "print(a.view(-1,1))\n",
        "print(a.ndimension())"
      ],
      "metadata": {
        "colab": {
          "base_uri": "https://localhost:8080/"
        },
        "id": "WFPyqfe3rZbv",
        "outputId": "1e44aec3-24f7-450c-db10-373a469f1060"
      },
      "execution_count": null,
      "outputs": [
        {
          "output_type": "stream",
          "name": "stdout",
          "text": [
            "tensor([1., 2., 3., 4., 5.], dtype=torch.float64)\n",
            "tensor([1., 2., 2., 2.])\n",
            "1\n",
            "tensor([[1.],\n",
            "        [2.],\n",
            "        [2.],\n",
            "        [2.]])\n",
            "tensor([[1.],\n",
            "        [2.],\n",
            "        [2.],\n",
            "        [2.]])\n",
            "1\n"
          ]
        }
      ]
    },
    {
      "cell_type": "code",
      "source": [
        "#Conversion of tensor to Numpy\n",
        "b = a.numpy()\n",
        "print(b)\n",
        "c =  to.from_numpy(b)\n",
        "print(c)\n",
        "#vector arthematic operations\n",
        "p = to.tensor([10,2,0,5])\n",
        "q = to.tensor([20,5,6,2])\n",
        "print(f\"sum of p&q is {p+q}\")\n",
        "print(f\"sub of p&q is {p-q}\")\n",
        "print(f\"mul of 2p is {2*p}\")\n",
        "print(f\"product of p&q is {p*q}\")\n",
        "print(f\"dot product of p&q is {to.dot(p,q)}\")\n"
      ],
      "metadata": {
        "colab": {
          "base_uri": "https://localhost:8080/"
        },
        "id": "vVaChe49vyiS",
        "outputId": "c2fce16f-c480-4f23-832b-faaf111db3fd"
      },
      "execution_count": null,
      "outputs": [
        {
          "output_type": "stream",
          "name": "stdout",
          "text": [
            "[1. 2. 2. 2.]\n",
            "tensor([1., 2., 2., 2.])\n",
            "sum of p&q is tensor([30,  7,  6,  7])\n",
            "sub of p&q is tensor([-10,  -3,  -6,   3])\n",
            "mul of 2p is tensor([20,  4,  0, 10])\n",
            "product of p&q is tensor([200,  10,   0,  10])\n",
            "dot product of p&q is 220\n"
          ]
        }
      ]
    },
    {
      "cell_type": "code",
      "source": [
        "#line space in tensor\n",
        "print(to.linspace(-2,2,steps=6))"
      ],
      "metadata": {
        "colab": {
          "base_uri": "https://localhost:8080/"
        },
        "id": "HQvmOMHd0bjR",
        "outputId": "82c837e5-f0c1-4006-fbdc-edbff24f3e53"
      },
      "execution_count": null,
      "outputs": [
        {
          "output_type": "stream",
          "name": "stdout",
          "text": [
            "tensor([-2.0000, -1.2000, -0.4000,  0.4000,  1.2000,  2.0000])\n"
          ]
        }
      ]
    }
  ]
}